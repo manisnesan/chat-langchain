{
 "cells": [
  {
   "attachments": {},
   "cell_type": "markdown",
   "metadata": {},
   "source": [
    "# Question Answerwing over mobb.ninja documentation for ROSA Users\n",
    "\n",
    "#### Contributor: Manikandan Sivanesan"
   ]
  },
  {
   "cell_type": "markdown",
   "metadata": {},
   "source": [
    "## Elevator Pitch"
   ]
  },
  {
   "cell_type": "markdown",
   "metadata": {},
   "source": [
    "- mobb.ninja is unofficial Red Hat documentation for ROSA, ARO, OSD and is provided for informational purposes only. \n",
    "- The guides are experimental, proof of concept, or early adoption. \n",
    "- ROSA users have found the task based content extremely useful and SMEs are creating content at a much faster rate compared to the rest of content workflow.\n",
    "- There is disconnect between the Red Hat Content systems with mobb.ninja and there is no way for Red Hat Digital Sites to surface this content for ROSA users."
   ]
  },
  {
   "cell_type": "markdown",
   "metadata": {},
   "source": [
    "## Goals"
   ]
  },
  {
   "cell_type": "markdown",
   "metadata": {},
   "source": [
    "- Create a Question Answering system over mobb.ninja documentation.\n",
    "- Learn the underlying high level components involved to serve Retrieval based QA systems using modern paradigms.\n",
    "- Having fun"
   ]
  },
  {
   "cell_type": "markdown",
   "metadata": {},
   "source": [
    "## Background Info and Technologies"
   ]
  },
  {
   "attachments": {},
   "cell_type": "markdown",
   "metadata": {},
   "source": [
    "![High Level Design](./high-level-design.png)"
   ]
  },
  {
   "cell_type": "markdown",
   "metadata": {},
   "source": [
    "## Demo"
   ]
  },
  {
   "cell_type": "markdown",
   "metadata": {},
   "source": [
    "### Using the Title "
   ]
  },
  {
   "cell_type": "code",
   "execution_count": null,
   "metadata": {},
   "outputs": [
    {
     "data": {
      "text/plain": [
       "{'answer': ' To create a disconnected ARO cluster, you need to follow the steps outlined in the guide \"Upgrade a disconnected ARO cluster\" on mobb.ninja/docs/aro/upgrade-disconnected-aro/index.html.\\n',\n",
       " 'sources': 'mobb.ninja/docs/aro/upgrade-disconnected-aro/index.html'}"
      ]
     },
     "metadata": {},
     "output_type": "display_data"
    }
   ],
   "source": [
    "chain({\"question\": \"How can I create disconnected ARO cluster\"}, return_only_outputs=True)"
   ]
  },
  {
   "cell_type": "markdown",
   "metadata": {},
   "source": [
    "### Mispelling typo clustere instead of cluster"
   ]
  },
  {
   "cell_type": "code",
   "execution_count": null,
   "metadata": {},
   "outputs": [
    {
     "data": {
      "text/plain": [
       "{'answer': \" I don't know.\\n\", 'sources': 'N/A'}"
      ]
     },
     "metadata": {},
     "output_type": "display_data"
    }
   ],
   "source": [
    "chain({\"question\": \"How can I create disconnected ARO clustere\"}, return_only_outputs=True)"
   ]
  },
  {
   "cell_type": "markdown",
   "metadata": {},
   "source": [
    "### ROSA - Use Cases around AWS Load Balancer Controller"
   ]
  },
  {
   "cell_type": "markdown",
   "metadata": {},
   "source": [
    "This is the page containing the info https://mobb.ninja/docs/rosa/aws-load-balancer-operator/\n",
    "\n",
    "```\n",
    "AWS Load Balancer Controller is a controller to help manage Elastic Load Balancers for a Kubernetes cluster.\n",
    "\n",
    "It satisfies Kubernetes Ingress resources by provisioning Application Load Balancers.\n",
    "It satisfies Kubernetes Service resources by provisioning Network Load Balancers.\n",
    "Compared with default AWS In Tree Provider, this controller is actively developed with advanced annotations for both ALB and NLB. Some advanced usecases are:\n",
    "\n",
    "Using native kubernetes ingress with ALB\n",
    "Integrate ALB with WAF\n",
    "Specify NLB source IP ranges\n",
    "Specify NLB internal IP address\n",
    "```"
   ]
  },
  {
   "cell_type": "code",
   "execution_count": null,
   "metadata": {},
   "outputs": [
    {
     "data": {
      "text/plain": [
       "{'answer': ' Advanced use cases related to AWS Load Balancer Controller on ROSA include using native Kubernetes ingress with ALB, integrating ALB with WAF, specifying NLB source IP ranges, specifying NLB internal IP address, and configuring TLS and DNS for the ingress.\\n',\n",
       " 'sources': 'mobb.ninja/docs/rosa/aws-load-balancer-operator/index.html, mobb.ninja/docs/index.html, mobb.ninja/docs/rosa/waf/readme-complex/index.html, mobb.ninja/docs/rosa/waf/alb/index.html'}"
      ]
     },
     "metadata": {},
     "output_type": "display_data"
    }
   ],
   "source": [
    "chain({\"question\": \"What are the advanced use cases related to AWS Load Balancer Controller on ROSA \"}, return_only_outputs=True)"
   ]
  },
  {
   "cell_type": "markdown",
   "metadata": {},
   "source": [
    "### ROSA - User trying to configure GPU workloads"
   ]
  },
  {
   "cell_type": "code",
   "execution_count": null,
   "metadata": {},
   "outputs": [
    {
     "data": {
      "text/plain": [
       "{'answer': \" I don't know.\\n\", 'sources': 'mobb.ninja/docs/index.html'}"
      ]
     },
     "metadata": {},
     "output_type": "display_data"
    }
   ],
   "source": [
    "chain({\"question\": \"How can I configure ROSA for GPU workloads\"}, return_only_outputs=True)"
   ]
  },
  {
   "cell_type": "code",
   "execution_count": null,
   "metadata": {},
   "outputs": [
    {
     "data": {
      "text/plain": [
       "{'answer': ' ROSA does not support NVIDIA GPU workloads.\\n',\n",
       " 'sources': 'mobb.ninja/docs/rosa/gpu/index.html, mobb.ninja/docs/index.html, mobb.ninja/docs/aro/gpu/index.html, mobb.ninja/docs/index.html'}"
      ]
     },
     "metadata": {},
     "output_type": "display_data"
    }
   ],
   "source": [
    "chain({\"question\": \"How can I configure ROSA for NVIDIA GPU workloads\"}, return_only_outputs=True)"
   ]
  },
  {
   "cell_type": "code",
   "execution_count": null,
   "metadata": {},
   "outputs": [
    {
     "data": {
      "text/plain": [
       "{'answer': ' Configuring ROSA for NVIDIA GPU workloads involves setting up entitlements to use the NVIDIA Operator, installing jq, moreutils, and gettext packages, and requesting GPU quota.\\n',\n",
       " 'sources': 'mobb.ninja/docs/rosa/gpu/index.html, mobb.ninja/docs/index.html'}"
      ]
     },
     "metadata": {},
     "output_type": "display_data"
    }
   ],
   "source": [
    "chain({\"question\": \"Configure ROSA for NVIDIA GPU workloads\"}, return_only_outputs=True)"
   ]
  },
  {
   "cell_type": "markdown",
   "metadata": {},
   "source": [
    "It seems providing additional context in the form of prompt is critical."
   ]
  },
  {
   "cell_type": "markdown",
   "metadata": {},
   "source": [
    "## Demo"
   ]
  },
  {
   "cell_type": "markdown",
   "metadata": {},
   "source": [
    "### Using the Title "
   ]
  },
  {
   "cell_type": "code",
   "execution_count": null,
   "metadata": {},
   "outputs": [
    {
     "data": {
      "text/plain": [
       "{'answer': ' To create a disconnected ARO cluster, you need to follow the steps outlined in the guide \"Upgrade a disconnected ARO cluster\" on mobb.ninja/docs/aro/upgrade-disconnected-aro/index.html.\\n',\n",
       " 'sources': 'mobb.ninja/docs/aro/upgrade-disconnected-aro/index.html'}"
      ]
     },
     "metadata": {},
     "output_type": "display_data"
    }
   ],
   "source": [
    "chain({\"question\": \"How can I create disconnected ARO cluster\"}, return_only_outputs=True)"
   ]
  },
  {
   "cell_type": "markdown",
   "metadata": {},
   "source": [
    "### Mispelling typo clustere instead of cluster"
   ]
  },
  {
   "cell_type": "code",
   "execution_count": null,
   "metadata": {},
   "outputs": [
    {
     "data": {
      "text/plain": [
       "{'answer': \" I don't know.\\n\", 'sources': 'N/A'}"
      ]
     },
     "metadata": {},
     "output_type": "display_data"
    }
   ],
   "source": [
    "chain({\"question\": \"How can I create disconnected ARO clustere\"}, return_only_outputs=True)"
   ]
  },
  {
   "cell_type": "markdown",
   "metadata": {},
   "source": [
    "### ROSA - Use Cases around AWS Load Balancer Controller"
   ]
  },
  {
   "cell_type": "markdown",
   "metadata": {},
   "source": [
    "This is the page containing the info https://mobb.ninja/docs/rosa/aws-load-balancer-operator/\n",
    "\n",
    "```\n",
    "AWS Load Balancer Controller is a controller to help manage Elastic Load Balancers for a Kubernetes cluster.\n",
    "\n",
    "It satisfies Kubernetes Ingress resources by provisioning Application Load Balancers.\n",
    "It satisfies Kubernetes Service resources by provisioning Network Load Balancers.\n",
    "Compared with default AWS In Tree Provider, this controller is actively developed with advanced annotations for both ALB and NLB. Some advanced usecases are:\n",
    "\n",
    "Using native kubernetes ingress with ALB\n",
    "Integrate ALB with WAF\n",
    "Specify NLB source IP ranges\n",
    "Specify NLB internal IP address\n",
    "```"
   ]
  },
  {
   "cell_type": "code",
   "execution_count": null,
   "metadata": {},
   "outputs": [
    {
     "data": {
      "text/plain": [
       "{'answer': ' Advanced use cases related to AWS Load Balancer Controller on ROSA include using native Kubernetes ingress with ALB, integrating ALB with WAF, specifying NLB source IP ranges, specifying NLB internal IP address, and configuring TLS and DNS for the ingress.\\n',\n",
       " 'sources': 'mobb.ninja/docs/rosa/aws-load-balancer-operator/index.html, mobb.ninja/docs/index.html, mobb.ninja/docs/rosa/waf/readme-complex/index.html, mobb.ninja/docs/rosa/waf/alb/index.html'}"
      ]
     },
     "metadata": {},
     "output_type": "display_data"
    }
   ],
   "source": [
    "chain({\"question\": \"What are the advanced use cases related to AWS Load Balancer Controller on ROSA \"}, return_only_outputs=True)"
   ]
  },
  {
   "cell_type": "markdown",
   "metadata": {},
   "source": [
    "### ROSA - User trying to configure GPU workloads"
   ]
  },
  {
   "cell_type": "code",
   "execution_count": null,
   "metadata": {},
   "outputs": [
    {
     "data": {
      "text/plain": [
       "{'answer': \" I don't know.\\n\", 'sources': 'mobb.ninja/docs/index.html'}"
      ]
     },
     "metadata": {},
     "output_type": "display_data"
    }
   ],
   "source": [
    "chain({\"question\": \"How can I configure ROSA for GPU workloads\"}, return_only_outputs=True)"
   ]
  },
  {
   "cell_type": "code",
   "execution_count": null,
   "metadata": {},
   "outputs": [
    {
     "data": {
      "text/plain": [
       "{'answer': ' ROSA does not support NVIDIA GPU workloads.\\n',\n",
       " 'sources': 'mobb.ninja/docs/rosa/gpu/index.html, mobb.ninja/docs/index.html, mobb.ninja/docs/aro/gpu/index.html, mobb.ninja/docs/index.html'}"
      ]
     },
     "metadata": {},
     "output_type": "display_data"
    }
   ],
   "source": [
    "chain({\"question\": \"How can I configure ROSA for NVIDIA GPU workloads\"}, return_only_outputs=True)"
   ]
  },
  {
   "cell_type": "code",
   "execution_count": null,
   "metadata": {},
   "outputs": [
    {
     "data": {
      "text/plain": [
       "{'answer': ' Configuring ROSA for NVIDIA GPU workloads involves setting up entitlements to use the NVIDIA Operator, installing jq, moreutils, and gettext packages, and requesting GPU quota.\\n',\n",
       " 'sources': 'mobb.ninja/docs/rosa/gpu/index.html, mobb.ninja/docs/index.html'}"
      ]
     },
     "metadata": {},
     "output_type": "display_data"
    }
   ],
   "source": [
    "chain({\"question\": \"Configure ROSA for NVIDIA GPU workloads\"}, return_only_outputs=True)"
   ]
  },
  {
   "cell_type": "markdown",
   "metadata": {},
   "source": [
    "It seems providing additional context in the form of prompt is critical."
   ]
  }
 ],
 "metadata": {
  "kernelspec": {
   "display_name": "chat-langchain",
   "language": "python",
   "name": "python3"
  },
  "language_info": {
   "codemirror_mode": {
    "name": "ipython",
    "version": 3
   },
   "file_extension": ".py",
   "mimetype": "text/x-python",
   "name": "python",
   "nbconvert_exporter": "python",
   "pygments_lexer": "ipython3",
   "version": "3.9.16"
  },
  "orig_nbformat": 4
 },
 "nbformat": 4,
 "nbformat_minor": 2
}
